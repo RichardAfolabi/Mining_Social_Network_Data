{
 "metadata": {
  "name": ""
 },
 "nbformat": 3,
 "nbformat_minor": 0,
 "worksheets": [
  {
   "cells": [
    {
     "cell_type": "heading",
     "level": 1,
     "metadata": {},
     "source": [
      "Understanding the Reaction to Amazon Prime Air (Or: Tapping Twitter's Firehose for Fun and Profit with *pandas*) "
     ]
    },
    {
     "cell_type": "markdown",
     "metadata": {},
     "source": [
      "On Cyber Monday Eve, Jeff Bezos revealed that Amazon may have intentions to one day deliver many of its goods by unmanned aerial vehicles through a service called *Amazon Prime Air* as part of an segment for the television show *60 Minutes*. This notebook explores ~125k tweets from Twitter's firehose that were captured shortly after the announcement and teaches you how you can be equipped to capture interesting data within moments of announcements for your own analysis.\n",
      "\n",
      "<br />\n",
      "<center><iframe width=\"560\" height=\"315\" src=\"//www.youtube.com/embed/98BIu9dpwHU\" frameborder=\"0\" allowfullscreen></iframe><br /><center>\n",
      "<br />"
     ]
    },
    {
     "cell_type": "heading",
     "level": 2,
     "metadata": {},
     "source": [
      "Aspire"
     ]
    },
    {
     "cell_type": "markdown",
     "metadata": {},
     "source": [
      "Let's seek to better understand the \"Twitter reaction\" to Amazon's announcement that drones may one day be delivering packages right to our doorsteps."
     ]
    },
    {
     "cell_type": "heading",
     "level": 2,
     "metadata": {},
     "source": [
      "Acquire"
     ]
    },
    {
     "cell_type": "markdown",
     "metadata": {},
     "source": [
      "Twitter is an ideal source of data that can help you to understand the reaction to newsworthy events, because it has more than 200M active monthly users who tend to use it to frequently share short informal thoughts about anything and everything. Although Twitter offers a Search API that can be used to query for \"historical data\", tapping into the firehose with the Streaming API is a preferred option because it provides you the ability to acquire much larger volumes of data with keyword filters in real-time.\n",
      "\n",
      "There are numerous options for storing the data that you acquire from the firehose. A document-oriented database such as <a href=\"http://www.mongodb.org/\">MongoDB</a> makes a fine choice and can provide useful APIs for filtering and analysis. However, we'll opt to simply store the tweets that we fetch from the firehose in a newline-delimited text file, because we'll use the *pandas* library to analyze it as opposed to relying on MongoDB or a comparable option. \n",
      "\n",
      "Note: Should you have preferred to instead sink the data to MongoDB, the *mongoexport* commandline tool could have exported it to a newline delimited format that is exactly the same as what we will be writing to a file. Either way, you're covered."
     ]
    },
    {
     "cell_type": "heading",
     "level": 3,
     "metadata": {},
     "source": [
      "Python Dependencies"
     ]
    },
    {
     "cell_type": "markdown",
     "metadata": {},
     "source": [
      "There are only a few third-party packages that are required to use the code in this notebook: \n",
      "\n",
      "* The *twitter* package trivializes the process of tapping into Twitter's Streaming API for easily capturing tweets from the firehose\n",
      "* The *pandas* package provides a highly-performant \"spreadsheet-like interface\" into large collections of records such as tweets\n",
      "* The *nltk* packages provides some handy functions for processing natural language (the \"140 characters\" of content) in the tweets\n",
      "\n",
      "You can easily install these packages in a terminal with *pip install twitter pandas nltk*, or you can install them from within IPython Notebook by using \"Bash magic\". Bash magic is just a way of running Bash commands from within a notebook as shown below where the first line of a cell prefixed with *%%bash*."
     ]
    },
    {
     "cell_type": "code",
     "collapsed": false,
     "input": [
      "%%bash\n",
      "\n",
      "pip install twitter pandas nltk"
     ],
     "language": "python",
     "metadata": {},
     "outputs": []
    },
    {
     "cell_type": "heading",
     "level": 3,
     "metadata": {},
     "source": [
      "Tapping Twitter's Firehose"
     ]
    },
    {
     "cell_type": "markdown",
     "metadata": {},
     "source": [
      "It's a lot easier to tap into Twitter's firehose than you might imagine if you're using the right library. The code below show you how to create a connection to <a href=\"https://dev.twitter.com/docs/streaming-apis\">Twitter's Streaming API</a> and filter the firehose for tweets containing keywords. For simplicity, each tweet is saved in a newline-delimited file as a JSON document."
     ]
    },
    {
     "cell_type": "code",
     "collapsed": false,
     "input": [
      "import io\n",
      "import json\n",
      "import twitter\n",
      "\n",
      "# XXX: Go to http://twitter.com/apps/new to create an app and get values\n",
      "# for these credentials that you'll need to provide in place of these\n",
      "# empty string values that are defined as placeholders.\n",
      "#\n",
      "# See https://vimeo.com/79220146 for a short video that steps you\n",
      "# through this process\n",
      "#\n",
      "# See https://dev.twitter.com/docs/auth/oauth for more information \n",
      "# on Twitter's OAuth implementation.\n",
      "\n",
      "CONSUMER_KEY = ''\n",
      "CONSUMER_SECRET = ''\n",
      "OAUTH_TOKEN = ''\n",
      "OAUTH_TOKEN_SECRET = ''\n",
      "\n",
      "# The keyword query\n",
      "\n",
      "QUERY = 'Amazon'\n",
      "\n",
      "# The file to write output as newline-delimited JSON documents\n",
      "OUT_FILE = QUERY + \".json\"\n",
      "\n",
      "\n",
      "# Authenticate to Twitter with OAuth\n",
      "\n",
      "auth = twitter.oauth.OAuth(OAUTH_TOKEN, OAUTH_TOKEN_SECRET,\n",
      "                           CONSUMER_KEY, CONSUMER_SECRET)\n",
      "\n",
      "# Create a connection to the Streaming API\n",
      "\n",
      "twitter_stream = twitter.TwitterStream(auth=auth)\n",
      "\n",
      "\n",
      "print 'Filtering the public timeline for \"{0}\"'.format(QUERY)\n",
      "\n",
      "# See https://dev.twitter.com/docs/streaming-apis on keyword parameters\n",
      "\n",
      "stream = twitter_stream.statuses.filter(track=QUERY)\n",
      "\n",
      "# Write one tweet per line as a JSON document. \n",
      "\n",
      "with io.open(OUT_FILE, 'w', encoding='utf-8', buffering=1) as f:\n",
      "    for tweet in stream:\n",
      "        f.write(unicode(u'{0}\\n'.format(json.dumps(tweet, ensure_ascii=False))))\n",
      "        print tweet['text']"
     ],
     "language": "python",
     "metadata": {},
     "outputs": []
    },
    {
     "cell_type": "heading",
     "level": 2,
     "metadata": {},
     "source": [
      "Analyze"
     ]
    },
    {
     "cell_type": "markdown",
     "metadata": {},
     "source": [
      "Assuming that you've amassed a collection of tweets from the firehose in a line-delimited format, one of the easiest ways to load the data into *pandas* for analysis is to build a valid JSON array of the tweets."
     ]
    },
    {
     "cell_type": "markdown",
     "metadata": {},
     "source": [
      "Note: With *pandas*, you will need to have an amount of working memory proportional to the amount of data that you're analyzing. For reference, it takes on the order of ~8GB of memory to analyze ~125k tweets as shown in this notebook. (Bear in mind that each tweet is roughly 5KB of text when serialized out to a file.)"
     ]
    },
    {
     "cell_type": "code",
     "collapsed": false,
     "input": [
      "import pandas as pd\n",
      "\n",
      "# A text file with one tweet per line\n",
      "\n",
      "DATA_FILE = \"tmp/Amazon.json\"\n",
      "\n",
      "# Build a JSON array\n",
      "\n",
      "data = \"[{0}]\".format(\",\".join([l for l in open(DATA_FILE).readlines()]))\n",
      "\n",
      "# Create a pandas DataFrame (think: 2-dimensional table) to get a \n",
      "# spreadsheet-like interface into the data\n",
      "\n",
      "df = pd.read_json(data, orient='records')\n",
      "\n",
      "print \"Successfully imported\", len(df), \"tweets\""
     ],
     "language": "python",
     "metadata": {},
     "outputs": [
      {
       "output_type": "stream",
       "stream": "stdout",
       "text": [
        "Successfully imported 125697 tweets\n"
       ]
      }
     ],
     "prompt_number": 1
    },
    {
     "cell_type": "markdown",
     "metadata": {},
     "source": [
      "Whereas you may be used to thinking of data such as a list of dictionaries in a rows-oriented paradigm, pandas DataFrame exposes a convenient columnar view of the data that makes it easy to slice and dice by particular fields in each record. You can print the data frame to display the columnar structure and some stats about each column."
     ]
    },
    {
     "cell_type": "code",
     "collapsed": false,
     "input": [
      "# Printing a DataFrame shows how pandas exposes a columnar view of the data\n",
      "\n",
      "print df"
     ],
     "language": "python",
     "metadata": {},
     "outputs": [
      {
       "output_type": "stream",
       "stream": "stdout",
       "text": [
        "<class 'pandas.core.frame.DataFrame'>\n",
        "Int64Index: 125697 entries, 0 to 125696\n",
        "Data columns (total 27 columns):\n",
        "_id                          125697  non-null values\n",
        "contributors                 0  non-null values\n",
        "coordinates                  1102  non-null values\n",
        "created_at                   125681  non-null values\n",
        "entities                     125681  non-null values\n",
        "favorite_count               125681  non-null values\n",
        "favorited                    125681  non-null values\n",
        "filter_level                 125681  non-null values\n",
        "geo                          1102  non-null values\n",
        "id                           125681  non-null values\n",
        "id_str                       125681  non-null values\n",
        "in_reply_to_screen_name      10001  non-null values\n",
        "in_reply_to_status_id        5927  non-null values\n",
        "in_reply_to_status_id_str    5927  non-null values\n",
        "in_reply_to_user_id          10001  non-null values\n",
        "in_reply_to_user_id_str      10001  non-null values\n",
        "lang                         125681  non-null values\n",
        "limit                        16  non-null values\n",
        "place                        1442  non-null values\n",
        "possibly_sensitive           90143  non-null values\n",
        "retweet_count                125681  non-null values\n",
        "retweeted                    125681  non-null values\n",
        "retweeted_status             40297  non-null values\n",
        "source                       125681  non-null values\n",
        "text                         125681  non-null values\n",
        "truncated                    125681  non-null values\n",
        "user                         125681  non-null values\n",
        "dtypes: datetime64[ns](1), float64(13), object(13)\n"
       ]
      }
     ],
     "prompt_number": 2
    },
    {
     "cell_type": "markdown",
     "metadata": {},
     "source": [
      "Some of the items in a data frame may be null values, and these null values can wreak all kinds of havoc during analysis. Once you understand why they exist, it's wise to filter them out if possible. The null values in this collection of tweets are caused by \"limit notices\", which Twitter sends to tell you that you're being rate-limited. Notice in the columnar output above that the \"limit\" field (which is not typically part of a tweet) appears 16 times. This indicates that we received 16 limit notices and means that there are effectively 16 \"rows\" in our data frame that has null values for all of the fields we'd have expected to see.\n",
      "\n",
      "Per the Streaming API guidelines, Twitter will only provide up to 1% of the total volume of the firehose, and anything beyond that is filtered out with each \"limit notice\" telling you how many tweets were filtered out. This means that tweets containing \"Amazon\" accounted for at least 1% of the total tweet volume at the time this data was being collected. The next cell shows how to \"pop\" off the column containing the sixteen limit notices and sum up the totals across these limit notices so that we can learn exactly how many tweets were filtered out across the aggregate."
     ]
    },
    {
     "cell_type": "code",
     "collapsed": false,
     "input": [
      "# Observe the \"limit\" field that reflects \"limit notices\" where the streaming API\n",
      "# couldn't return more than 1% of the firehose.\n",
      "# See https://dev.twitter.com/docs/streaming-apis/messages#Limit_notices_limit\n",
      "\n",
      "# Capture the limit notices by indexing into the data frame for non-null field\n",
      "# containing \"limit\"\n",
      "\n",
      "limit_notices = df[pd.notnull(df.limit)]\n",
      "\n",
      "# Remove the limit notice column from the DataFrame entirely\n",
      "\n",
      "df = df[pd.notnull(df['id'])]\n",
      "\n",
      "print \"Number of total tweets that were rate-limited\", sum([ln['track'] for ln in limit_notices.limit])\n",
      "print \"Total number of limit notices\", len(limit_notices)"
     ],
     "language": "python",
     "metadata": {},
     "outputs": [
      {
       "output_type": "stream",
       "stream": "stdout",
       "text": [
        "Number of total tweets that were rate-limited 1062\n",
        "Total number of limit notices 16\n"
       ]
      }
     ],
     "prompt_number": 3
    },
    {
     "cell_type": "markdown",
     "metadata": {},
     "source": [
      "From this output, we can observe that ~1k tweets were not provided out of ~125k, more than 99% of the tweets about \"Amazon\" were received for the time period that they were being captured. In order to learn more about the bounds of that time period, let's create a time-based index on the *created_at* field of each tweet so that we can perform a time-based analysis."
     ]
    },
    {
     "cell_type": "code",
     "collapsed": false,
     "input": [
      "# Create a time-based index on the tweets for time series analysis\n",
      "# on the created_at field of the existing DataFrame.\n",
      "\n",
      "df.set_index('created_at', drop=False, inplace=True)\n",
      "\n",
      "print \"Created date/time index on tweets\""
     ],
     "language": "python",
     "metadata": {},
     "outputs": [
      {
       "output_type": "stream",
       "stream": "stdout",
       "text": [
        "Created date/time index on tweets\n"
       ]
      }
     ],
     "prompt_number": 4
    },
    {
     "cell_type": "markdown",
     "metadata": {},
     "source": [
      "With a time-based index now in place, we can trivially do some useful things like calculate the boundaries, compute histograms, etc. Since tweets through to our filter in roughly the order in which they are created, no additional sorting should be necessary in order to compute the timeframe for this dataset; we can just slice the DataFrame like a list."
     ]
    },
    {
     "cell_type": "code",
     "collapsed": false,
     "input": [
      "# Get a sense of the time range for the data\n",
      "\n",
      "print \"First tweet timestamp (UTC)\", df['created_at'][0]\n",
      "print \"Last tweet timestamp (UTC) \", df['created_at'][-1]"
     ],
     "language": "python",
     "metadata": {},
     "outputs": [
      {
       "output_type": "stream",
       "stream": "stdout",
       "text": [
        "First tweet timestamp (UTC) 2013-12-02 01:41:45\n",
        "Last tweet timestamp (UTC)  2013-12-02 05:01:18\n"
       ]
      }
     ],
     "prompt_number": 5
    },
    {
     "cell_type": "markdown",
     "metadata": {},
     "source": [
      "Operations such as grouping by a time unit are also easy to accomplish and seem a logical next step. The following cell illustrates how to group by the \"hour\" of our data frame, which is exposed as a datetime.datetime timestamp since we now have a time-based index in place."
     ]
    },
    {
     "cell_type": "code",
     "collapsed": false,
     "input": [
      "# Let's group the tweets by hour and look at the overall volumes with a simple\n",
      "# text-based histogram\n",
      "\n",
      "# First group by the hour\n",
      "\n",
      "grouped = df.groupby(lambda x: x.hour)\n",
      "\n",
      "print \"Number of relevant tweets by the hour (UTC)\"\n",
      "print\n",
      "\n",
      "# You can iterate over the groups and print \n",
      "# out the volume of tweets for each hour \n",
      "# along with a simple text-based histogram\n",
      "\n",
      "for hour, group in grouped:\n",
      "    print hour, len(group), '*'*(len(group) / 1000)"
     ],
     "language": "python",
     "metadata": {},
     "outputs": [
      {
       "output_type": "stream",
       "stream": "stdout",
       "text": [
        "Number of relevant tweets by the hour (UTC)\n",
        "\n",
        "1"
       ]
      },
      {
       "output_type": "stream",
       "stream": "stdout",
       "text": [
        " 14788 **************\n",
        "2 43286 *******************************************\n",
        "3 36582 ************************************\n",
        "4 30008 ******************************\n",
        "5 1017 *\n"
       ]
      }
     ],
     "prompt_number": 6
    },
    {
     "cell_type": "markdown",
     "metadata": {},
     "source": [
      "Bearing in mind that we just previously learned that tweet acquisition began at 1:41 UTC and ended at 5:01 UTC, it could be helpful to further subdivide the time ranges into smaller intervals so as to increase the resolution of the extremes. Therefore, let's group into a custom interval by dividing the hour into 15-minute segments. The code is pretty much the same as before except that you call a custom function to perform the grouping; pandas takes care of the rest."
     ]
    },
    {
     "cell_type": "code",
     "collapsed": false,
     "input": [
      "# Let's group the tweets by (hour, minute) and look at the overall volumes with a simple\n",
      "# text-based histogram\n",
      "\n",
      "def group_by_15_min_intervals(x):\n",
      "    if   0 <= x.minute <= 15: return (x.hour, \"0-15\")\n",
      "    elif 15 < x.minute <= 30: return (x.hour, \"16-30\")\n",
      "    elif 30 < x.minute <= 45: return (x.hour, \"31-45\")\n",
      "    else: return (x.hour, \"46-00\")\n",
      "\n",
      "\n",
      "grouped = df.groupby(lambda x: group_by_15_min_intervals(x))\n",
      "\n",
      "print \"Number of relevant tweets by intervals (UTC)\"\n",
      "print\n",
      "\n",
      "for interval, group in grouped:\n",
      "    print interval, len(group), \"\\t\", '*'*(len(group) / 200)\n",
      "\n",
      "# Since we didn't start or end precisely on an interval, let's\n",
      "# slice off the extremes. This has the added benefit of also\n",
      "# improving the resolution of the plot that shows the trend\n",
      "plt.plot([len(group) for hour, group in grouped][1:-1])\n",
      "plt.ylabel(\"Tweet Volume\")\n",
      "plt.xlabel(\"Time\")"
     ],
     "language": "python",
     "metadata": {},
     "outputs": [
      {
       "output_type": "stream",
       "stream": "stdout",
       "text": [
        "Number of relevant tweets by intervals (UTC)\n",
        "\n",
        "(1, '31-45')"
       ]
      },
      {
       "output_type": "stream",
       "stream": "stdout",
       "text": [
        " 2875 \t**************\n",
        "(1, '46-00') 11913 \t***********************************************************\n",
        "(2, '0-15') 13611 \t********************************************************************\n",
        "(2, '16-30') 11265 \t********************************************************\n",
        "(2, '31-45') 10452 \t****************************************************\n",
        "(2, '46-00') 7958 \t***************************************\n",
        "(3, '0-15') 10386 \t***************************************************\n",
        "(3, '16-30') 9542 \t***********************************************\n",
        "(3, '31-45') 8727 \t*******************************************\n",
        "(3, '46-00') 7927 \t***************************************\n",
        "(4, '0-15') 9042 \t*********************************************\n",
        "(4, '16-30') 7543 \t*************************************\n",
        "(4, '31-45') 7074 \t***********************************\n",
        "(4, '46-00') 6349 \t*******************************\n",
        "(5, '0-15') 1017 \t*****\n"
       ]
      },
      {
       "metadata": {},
       "output_type": "pyout",
       "prompt_number": 7,
       "text": [
        "<matplotlib.text.Text at 0x1e9a9d50>"
       ]
      },
      {
       "metadata": {},
       "output_type": "display_data",
       "png": "[encoded data removed]",
       "text": [
        "<matplotlib.figure.Figure at 0x1e585210>"
       ]
      }
     ],
     "prompt_number": 7
    },
    {
     "cell_type": "markdown",
     "metadata": {},
     "source": [
      "In addition to time-based analysis, we can do other types of analysis as well. Generally speaking, one of the first things you'll want to do when exploring new data is count things, so let's compute the Twitter accounts that authored the most tweets and compare it to the total number of unique accounts that appeared."
     ]
    },
    {
     "cell_type": "code",
     "collapsed": false,
     "input": [
      "from collections import Counter\n",
      "\n",
      "# The \"user\" field is a record (dictionary), and we can pop it off\n",
      "# and then use the Series constructor to make it easy to use with pandas.\n",
      "\n",
      "user_col = df.pop('user').apply(pd.Series)\n",
      "\n",
      "# Get the screen name column\n",
      "authors = user_col.screen_name\n",
      "\n",
      "# And count things\n",
      "authors_counter = Counter(authors.values)\n",
      "\n",
      "# And tally the totals\n",
      "\n",
      "print\n",
      "print \"Most frequent (top 25) authors of tweets\"\n",
      "print '\\n'.join([\"{0}\\t{1}\".format(a, f) for a, f in authors_counter.most_common(25)])\n",
      "print\n",
      "\n",
      "# Get only the unique authors\n",
      "\n",
      "num_unique_authors = len(set(authors.values))\n",
      "print \"There are {0} unique authors out of {1} tweets\".format(num_unique_authors, len(df))"
     ],
     "language": "python",
     "metadata": {},
     "outputs": [
      {
       "output_type": "stream",
       "stream": "stdout",
       "text": [
        "\n",
        "Most frequent (top 25) authors of tweets\n",
        "_net_shop_\t165\n",
        "PC_shop_japan\t161\n",
        "work_black\t160\n",
        "house_book_jp\t160\n",
        "bousui_jp\t147\n",
        "Popular_goods\t147\n",
        "pachisuro_777\t147\n",
        "sweets_shop\t146\n",
        "bestshop_goods\t146\n",
        "__electronics__\t142\n",
        "realtime_trend\t141\n",
        "gardening_jp\t140\n",
        "shikaku_book\t139\n",
        "supplement_\t139\n",
        "__travel__\t138\n",
        "disc_jockey_jp\t138\n",
        "water_summer_go\t138\n",
        "Jungle_jp\t137\n",
        "necessaries_jp\t137\n",
        "marry_for_love\t137\n",
        "trend_realtime\t136\n",
        "sparkler_jp\t136\n",
        "PandoraQQ\t133\n",
        "flypfox\t133\n",
        "Promo_Culturel\t132"
       ]
      },
      {
       "output_type": "stream",
       "stream": "stdout",
       "text": [
        "\n",
        "\n",
        "There are 71794 unique authors out of 125681 tweets"
       ]
      },
      {
       "output_type": "stream",
       "stream": "stdout",
       "text": [
        "\n"
       ]
      }
     ],
     "prompt_number": 8
    },
    {
     "cell_type": "markdown",
     "metadata": {},
     "source": [
      "At first glance, it would appear that there are quite a few bots accounting for a non-trivial portion of the tweet volume, and many of them appear to be Japanese! As usual, we can plot these values to get better intution about the underlying distrubution, so let's take a quick look at a frequency plot and histogram. We'll use logarithmic adjustments in both cases, so pay close attention to axis values."
     ]
    },
    {
     "cell_type": "code",
     "collapsed": false,
     "input": [
      "# Plot by rank (sorted value) to gain intution about the shape of the distrubtion\n",
      "\n",
      "author_freqs = sorted(authors_counter.values())\n",
      "\n",
      "plt.loglog(author_freqs)\n",
      "plt.ylabel(\"Num Tweets by Author\")\n",
      "plt.xlabel(\"Author Rank\")\n",
      "\n",
      "# Start  a new figure\n",
      "\n",
      "plt.figure()\n",
      "\n",
      "# Plot a histogram to \"zoom in\" and increase resolution.\n",
      "\n",
      "plt.hist(author_freqs, log=True)\n",
      "plt.ylabel(\"Num Authors\")\n",
      "plt.xlabel(\"Num Tweets\")"
     ],
     "language": "python",
     "metadata": {},
     "outputs": [
      {
       "metadata": {},
       "output_type": "pyout",
       "prompt_number": 9,
       "text": [
        "<matplotlib.text.Text at 0x21c29fd0>"
       ]
      },
      {
       "metadata": {},
       "output_type": "display_data",
       "png": "[encoded data removed]",
       "text": [
        "<matplotlib.figure.Figure at 0x1e6cfdd0>"
       ]
      },
      {
       "metadata": {},
       "output_type": "display_data",
       "png": "[encoded data removed]",
       "text": [
        "<matplotlib.figure.Figure at 0x21945f50>"
       ]
      }
     ],
     "prompt_number": 9
    },
    {
     "cell_type": "markdown",
     "metadata": {},
     "source": [
      "Although we could filter the DataFrame for coordinates (or locations in user profiles), an even simpler starting point to gain rudimentary insight about where users *might* be located is to inspect the language field of the tweets and compute the tallies for each language. With pandas, it's just a quick one-liner."
     ]
    },
    {
     "cell_type": "code",
     "collapsed": false,
     "input": [
      "# What languages do authors of tweets speak? This might be a useful clue\n",
      "# as to who is tweeting. (Also bear in mind the general timeframe for the \n",
      "# data when interpreting these results.)\n",
      "\n",
      "df.lang.value_counts()"
     ],
     "language": "python",
     "metadata": {},
     "outputs": [
      {
       "metadata": {},
       "output_type": "pyout",
       "prompt_number": 10,
       "text": [
        "en     79151\n",
        "ja     35940\n",
        "und     3197\n",
        "es      2713\n",
        "de      1142\n",
        "fr       717\n",
        "id       442\n",
        "pt       434\n",
        "ko       283\n",
        "vi       248\n",
        "nl       212\n",
        "th       209\n",
        "zh       135\n",
        "sk       114\n",
        "ru        84\n",
        "da        73\n",
        "it        65\n",
        "sl        65\n",
        "pl        64\n",
        "ht        63\n",
        "et        56\n",
        "tr        53\n",
        "tl        43\n",
        "ar        38\n",
        "lt        30\n",
        "no        17\n",
        "lv        16\n",
        "fi        15\n",
        "hu        13\n",
        "sv        12\n",
        "bg         8\n",
        "ne         7\n",
        "el         5\n",
        "he         5\n",
        "fa         4\n",
        "uk         3\n",
        "my         2\n",
        "is         2\n",
        "ta         1\n",
        "dtype: int64"
       ]
      }
     ],
     "prompt_number": 10
    },
    {
     "cell_type": "markdown",
     "metadata": {},
     "source": [
      "A staggering number of Japanese speakers were talking about \"Amazon\" at the time the data was collected. Bearing in mind that it was already mid-day on Monday in Japan when it the news of the Amazon drones started to surface in the United States on Sunday evening, is this really all that surprising given Twitter's popularity in Japan?\n",
      "\n",
      "Filtering on language also affords us to remove some noise from analysis since we can filter out only tweets in a specific language for inspection, which will be handy for some analysis on the content of the tweets themselves. Let's filter out only the 140 characters of text from tweets where the author speaks English and use some natural language processing techniques to learn more about the reaction."
     ]
    },
    {
     "cell_type": "code",
     "collapsed": false,
     "input": [
      "# Let's just look at the content of the English tweets by extracting it\n",
      "# out as a list of text\n",
      "\n",
      "en_text = df[df['lang'] == 'en'].pop('text')"
     ],
     "language": "python",
     "metadata": {},
     "outputs": [],
     "prompt_number": 11
    },
    {
     "cell_type": "markdown",
     "metadata": {},
     "source": [
      "Although NLTK provides some advanced tokenization functions, let's just split the English text on white space, normalize it to lowercase, and remove some common trailing punctuation and count things to get an initial glance in to what's being talked about."
     ]
    },
    {
     "cell_type": "code",
     "collapsed": false,
     "input": [
      "from collections import Counter\n",
      "\n",
      "tokens = []\n",
      "for txt in en_text.values:\n",
      "    tokens.extend([t.lower().strip(\":,.\") for t in txt.split()])\n",
      "    \n",
      "# Use a Counter to construct frequency tuples\n",
      "tokens_counter = Counter(tokens)\n",
      "\n",
      "# Display some of the most commonly occurring tokens\n",
      "tokens_counter.most_common(50)"
     ],
     "language": "python",
     "metadata": {},
     "outputs": [
      {
       "metadata": {},
       "output_type": "pyout",
       "prompt_number": 12,
       "text": [
        "[(u'amazon', 54778),\n",
        " (u'rt', 36409),\n",
        " (u'the', 25749),\n",
        " (u'drones', 24474),\n",
        " (u'to', 24040),\n",
        " (u'a', 21341),\n",
        " (u'delivery', 18557),\n",
        " (u'in', 17531),\n",
        " (u'of', 15741),\n",
        " (u'on', 14095),\n",
        " (u'drone', 13800),\n",
        " (u'by', 13422),\n",
        " (u'is', 12034),\n",
        " (u'for', 10988),\n",
        " (u'@amazon', 9318),\n",
        " (u'i', 9263),\n",
        " (u'and', 8793),\n",
        " (u'prime', 8783),\n",
        " (u'30', 8319),\n",
        " (u'air', 8026),\n",
        " (u'with', 7956),\n",
        " (u'future', 7911),\n",
        " (u'deliver', 7890),\n",
        " (u'get', 6790),\n",
        " (u'you', 6573),\n",
        " (u'your', 6543),\n",
        " (u'via', 6444),\n",
        " (u'deliveries', 6432),\n",
        " (u'this', 5899),\n",
        " (u'bezos', 5738),\n",
        " (u'will', 5703),\n",
        " (u'#primeair', 5680),\n",
        " (u'unmanned', 5442),\n",
        " (u'aerial', 5313),\n",
        " (u'under', 5308),\n",
        " (u'-', 5257),\n",
        " (u'mins', 5199),\n",
        " (u'that', 4890),\n",
        " (u'vehicles', 4835),\n",
        " (u'my', 4728),\n",
        " (u'from', 4720),\n",
        " (u'peek', 4699),\n",
        " (u'sneak', 4684),\n",
        " (u'unveils', 4555),\n",
        " (u'it', 4473),\n",
        " (u'minutes', 4459),\n",
        " (u'just', 4396),\n",
        " (u'at', 4394),\n",
        " (u'http://t.c\\u2026', 4391),\n",
        " (u'packages', 4302)]"
       ]
      }
     ],
     "prompt_number": 12
    },
    {
     "cell_type": "markdown",
     "metadata": {},
     "source": [
      "Not surprisingly, \"amazon\" is the most frequently occurring token, there are lots of retweets (actually, \"quoted retweets\") as evidenced by \"rt\", and lots of stopwords (commonly occurring words like \"the\", \"and\", etc.) at the top of the list. Let's further remove some of the noise by removing stopwords."
     ]
    },
    {
     "cell_type": "code",
     "collapsed": false,
     "input": [
      "import nltk\n",
      "\n",
      "# Download the stopwords list into NLTK\n",
      "\n",
      "nltk.download('stopwords')\n",
      "\n",
      "# Remove stopwords to decrease noise\n",
      "for t in nltk.corpus.stopwords.words('english'):\n",
      "    tokens_counter.pop(t)\n",
      "    \n",
      "# Redisplay the data (and then some)\n",
      "tokens_counter.most_common(200)"
     ],
     "language": "python",
     "metadata": {},
     "outputs": [
      {
       "output_type": "stream",
       "stream": "stdout",
       "text": [
        "[nltk_data] Downloading package 'stopwords' to /usr/share/nltk_data...\n",
        "[nltk_data]   Package stopwords is already up-to-date!\n"
       ]
      },
      {
       "metadata": {},
       "output_type": "pyout",
       "prompt_number": 13,
       "text": [
        "[(u'amazon', 54778),\n",
        " (u'rt', 36409),\n",
        " (u'drones', 24474),\n",
        " (u'delivery', 18557),\n",
        " (u'drone', 13800),\n",
        " (u'@amazon', 9318),\n",
        " (u'prime', 8783),\n",
        " (u'30', 8319),\n",
        " (u'air', 8026),\n",
        " (u'future', 7911),\n",
        " (u'deliver', 7890),\n",
        " (u'get', 6790),\n",
        " (u'via', 6444),\n",
        " (u'deliveries', 6432),\n",
        " (u'bezos', 5738),\n",
        " (u'#primeair', 5680),\n",
        " (u'unmanned', 5442),\n",
        " (u'aerial', 5313),\n",
        " (u'-', 5257),\n",
        " (u'mins', 5199),\n",
        " (u'vehicles', 4835),\n",
        " (u'peek', 4699),\n",
        " (u'sneak', 4684),\n",
        " (u'unveils', 4555),\n",
        " (u'minutes', 4459),\n",
        " (u'http://t.c\\u2026', 4391),\n",
        " (u'packages', 4302),\n",
        " (u'jeff', 4040),\n",
        " (u'http://t.co/w6kugw4egt', 3922),\n",
        " (u\"amazon's\", 3669),\n",
        " (u'flying', 3599),\n",
        " (u'ceo', 3205),\n",
        " (u'#amazon', 3074),\n",
        " (u'new', 2870),\n",
        " (u'free', 2797),\n",
        " (u'testing', 2585),\n",
        " (u'could', 2568),\n",
        " (u'shipping', 2541),\n",
        " (u'', 2422),\n",
        " (u'says', 2343),\n",
        " (u\"'60\", 2324),\n",
        " (u'like', 2300),\n",
        " (u'stuff', 2263),\n",
        " (u'years', 2194),\n",
        " (u'60', 2157),\n",
        " (u'use', 2134),\n",
        " (u'using', 1939),\n",
        " (u'&amp;', 1901),\n",
        " (u\"minutes'\", 1868),\n",
        " (u'kindle', 1735),\n",
        " (u\"it's\", 1657),\n",
        " (u'plans', 1655),\n",
        " (u'cyber', 1622),\n",
        " (u'one', 1617),\n",
        " (u'gift', 1614),\n",
        " (u\"i'm\", 1604),\n",
        " (u'monday', 1568),\n",
        " (u'wants', 1538),\n",
        " (u'first', 1522),\n",
        " (u'order', 1519),\n",
        " (u'good', 1479),\n",
        " (u'going', 1459),\n",
        " (u'package', 1446),\n",
        " (u'fire', 1400),\n",
        " (u'look', 1386),\n",
        " (u'plan', 1378),\n",
        " (u'4', 1377),\n",
        " (u'delivering', 1376),\n",
        " (u'@60minutes', 1371),\n",
        " (u'make', 1369),\n",
        " (u'experimenting', 1341),\n",
        " (u'30-minute', 1336),\n",
        " (u'book', 1330),\n",
        " (u'primeair', 1310),\n",
        " (u'real', 1285),\n",
        " (u'online', 1274),\n",
        " (u'coming', 1261),\n",
        " (u'think', 1195),\n",
        " (u'see', 1152),\n",
        " (u'video', 1149),\n",
        " (u'next', 1149),\n",
        " (u'would', 1135),\n",
        " (u'system', 1131),\n",
        " (u'service', 1115),\n",
        " (u'thing', 1099),\n",
        " (u'something', 1069),\n",
        " (u'hour', 1052),\n",
        " (u'black', 1043),\n",
        " (u'card', 1040),\n",
        " (u'half', 1033),\n",
        " (u'want', 1018),\n",
        " (u'half-hour', 1016),\n",
        " (u'futuristic', 1016),\n",
        " (u\"you're\", 998),\n",
        " (u'know', 987),\n",
        " (u'love', 985),\n",
        " (u'people', 964),\n",
        " (u'aims', 964),\n",
        " (u'(video)', 958),\n",
        " (u'day', 954),\n",
        " (u'shot', 936),\n",
        " (u'deploy', 921),\n",
        " (u'delivered', 919),\n",
        " (u'amazon\\u2019s', 906),\n",
        " (u'basically', 902),\n",
        " (u'within', 888),\n",
        " (u'shop', 886),\n",
        " (u'really', 882),\n",
        " (u'buy', 876),\n",
        " (u'check', 859),\n",
        " (u'\\u2026', 855),\n",
        " (u'us', 844),\n",
        " (u'time', 829),\n",
        " (u'autonomous', 817),\n",
        " (u'wait', 815),\n",
        " (u'right', 801),\n",
        " (u'@mashable', 787),\n",
        " (u'finding', 786),\n",
        " (u'go', 780),\n",
        " (u'2015', 779),\n",
        " (u\"can't\", 774),\n",
        " (u'@buzzfeed', 774),\n",
        " (u'top', 774),\n",
        " (u'cool', 770),\n",
        " (u'rebel', 767),\n",
        " (u'@amazondrone', 766),\n",
        " (u'(also', 762),\n",
        " (u'helpful', 762),\n",
        " (u'#drones', 761),\n",
        " (u'rifle', 759),\n",
        " (u'reveals', 759),\n",
        " (u'door', 755),\n",
        " (u'bases', 752),\n",
        " (u'store', 751),\n",
        " (u'hoth.)', 748),\n",
        " (u'shit', 748),\n",
        " (u'@bradplumer', 743),\n",
        " (u'waiting', 743),\n",
        " (u'looks', 735),\n",
        " (u'@deathstarpr', 735),\n",
        " (u\"don't\", 732),\n",
        " (u'5', 731),\n",
        " (u'win', 731),\n",
        " (u'floats', 717),\n",
        " (u'friday', 717),\n",
        " (u'way', 717),\n",
        " (u'great', 713),\n",
        " (u'http://t.co/jlfdnihzks', 711),\n",
        " (u'company', 710),\n",
        " (u'need', 709),\n",
        " (u'read', 704),\n",
        " (u'home', 704),\n",
        " (u'watch', 697),\n",
        " (u'moment', 691),\n",
        " (u'http://t.co/bxsavvzxzf', 690),\n",
        " (u'best', 685),\n",
        " (u'notion', 680),\n",
        " (u'news', 669),\n",
        " (u'blog', 669),\n",
        " (u'announces', 667),\n",
        " (u'got', 658),\n",
        " (u'$25', 654),\n",
        " (u'products', 646),\n",
        " (u'big', 645),\n",
        " (u'still', 642),\n",
        " (u'2', 642),\n",
        " (u'gonna', 642),\n",
        " (u'tip', 636),\n",
        " (u'sales', 623),\n",
        " (u'awkward', 618),\n",
        " (u'\"amazon', 617),\n",
        " (u'idea', 609),\n",
        " (u'take', 604),\n",
        " (u'working', 600),\n",
        " (u'books', 597),\n",
        " (u\"won't\", 597),\n",
        " (u'hovers', 593),\n",
        " (u'wow', 589),\n",
        " (u'live', 587),\n",
        " (u'promises', 579),\n",
        " (u'back', 576),\n",
        " (u'package-delivery', 573),\n",
        " (u'@badbanana', 570),\n",
        " (u'soon', 563),\n",
        " (u'deals', 560),\n",
        " (u'+', 558),\n",
        " (u'work', 555),\n",
        " (u'ever', 552),\n",
        " (u\"'octocopter'\", 551),\n",
        " (u'$50', 549),\n",
        " (u'hit', 549),\n",
        " (u'holy', 546),\n",
        " (u'night', 537),\n",
        " (u'hdx', 535),\n",
        " (u'today', 526),\n",
        " (u'bits', 521),\n",
        " (u'many', 520),\n",
        " (u'awesome', 519),\n",
        " (u'amazing', 508),\n",
        " (u'window', 506)]"
       ]
      }
     ],
     "prompt_number": 13
    },
    {
     "cell_type": "markdown",
     "metadata": {},
     "source": [
      "What a difference removing a little bit of noise can make! We now see much more meaningful data appear at the top of the list: drones, signs that a phrase \"30 mins\" (which turned out to be a possible timeframe for a Prime Air delivery by a drone according to Bezos) might appear based the appearance of \"30\" and \"mins\"/\"minutes\" near the top of the list), signs of another phrase \"prime air\" (as evidenced by \"prime\", \"air\" and the hashtag \"#primeair\"), references to Jeff Bezos, URLs to investigate and more!\n",
      "\n",
      "Even though we've already learned a lot, one of the challenges with only employing crude tokenization techniques is that you aren't left with any phrases. One of the simplest ways of disocvering meaningful phrases in text is to treat the problem as one of discovering statistical collocations. NLTK provides some routines to find collocations and includes a \"demo\" function that's a quick one-liner."
     ]
    },
    {
     "cell_type": "code",
     "collapsed": false,
     "input": [
      "nltk_text = nltk.Text(tokens)\n",
      "nltk_text.collocations()"
     ],
     "language": "python",
     "metadata": {},
     "outputs": [
      {
       "output_type": "stream",
       "stream": "stdout",
       "text": [
        "Building collocations list\n",
        "prime air; sneak peek; unmanned aerial; aerial vehicles;\n",
        "http://t.co/w6kugw4egt http://t.c\u2026; vehicles http://t.co/w6kugw4egt;\n",
        "#primeair future; future deliveries; delivery drones; jeff bezos;\n",
        "@amazon get; amazon prime; '60 minutes'; amazon unveils; cyber monday;\n",
        "deliver packages; flying delivery; unveils flying; kindle fire; (also\n",
        "helpful"
       ]
      },
      {
       "output_type": "stream",
       "stream": "stdout",
       "text": [
        "\n"
       ]
      }
     ],
     "prompt_number": 14
    },
    {
     "cell_type": "markdown",
     "metadata": {},
     "source": [
      "Even without any prior analysis on tokenization, it's pretty clear what the topis is about as evidenced by this list of collocations. But what about the *context* in which these phrases appear? As it turns out, NLTK supplies another handy data structure that provides some insight as to how words appear in context called a concordance. Trying out the \"demo functionality\" for the concordance is as simple as just calling it as shown below. \n",
      "\n",
      "Toward the bottom of the list of commonly occurring tokens, the words \"amazing\" and \"holy\" appear. The word \"amazing\" is interesting, because it is usually the basis of an emotional reaction, and we're interested in examining the reaction. What about word \"holy\"? What might it mean? The concordance will help us to find out..."
     ]
    },
    {
     "cell_type": "code",
     "collapsed": false,
     "input": [
      "nltk_text.concordance(\"amazing\")\n",
      "print\n",
      "nltk_text.concordance(\"holy\")"
     ],
     "language": "python",
     "metadata": {},
     "outputs": [
      {
       "output_type": "stream",
       "stream": "stdout",
       "text": [
        "Building index...\n",
        "Displaying 25 of 508 matches:"
       ]
      },
      {
       "output_type": "stream",
       "stream": "stdout",
       "text": [
        "\n",
        "s - @variety http://t.c\u2026 this looks amazing how will it impact drone traffic? -\n",
        "it? amazon prime air delivery looks amazing http://t.co/icizw5vfrw rt @jeffreyg\n",
        "gift card? @budgetearth &amp; other amazing bloggers are giving one away! ends \n",
        "k? damn that amazon prime air looks amazing im sure it would freak out some peo\n",
        "egt http://t.c\u2026 @munilass amazon is amazing for what i use it for i'm okay with\n",
        "wwglyqrq just in bonnie sold again! amazing book http://t.co/jce902iros #best-s\n",
        "ase of 1000) http://t.co/d6l8p3jgbz amazing prospects! \u201c@brianstelter on heels \n",
        "riety http://t.c\u2026 rt @dangillmor by amazing coincidence amazon had a youtube dr\n",
        "rd_ferguson amazon prime air sounds amazing *hot* kindle fire hdx wi-fi 7' tabl\n",
        "t.co/hrgxtrlumx this is going to be amazing if the faa allows it welcome to the\n",
        "lying grill #primeair is absolutely amazing i'm excited to see the progress/dev\n",
        ".co/w6kugw4egt http://t.c\u2026 the most amazing thing to me about amazon - when bez\n",
        "//t.co/cad9zload3 rt @dangillmor by amazing coincidence amazon had a youtube dr\n",
        "that 60 minutes piece on amazon was amazing what an incredible company and deli\n",
        " jesus christ this is real and it\u2019s amazing erohmygerd http://t.co/m4salqm0lo r\n",
        "/t.co/0trwr9qsoc rt @semil the most amazing thing to me about amazon - when bez\n",
        "yeah no this @amazon drone stuff is amazing me but i have the same questions as\n",
        "hqfg\u2026 30 minutes delivery by amazon amazing http://t.co/ofu39suiov i really don\n",
        "eat show at #60minutes amazon is an amazing company! rt @zachpagano next year d\n",
        "on's future drone shipping tech was amazing to see amazon unveils futuristic pl\n",
        "the first review on this product is amazing http://t.co/20yn3jguxu rt @amazon g\n",
        "ttp://t.co/s2shyp48go this would be amazing  jeff bezos promises half-hour ship\n",
        "wugrxq2oju have you guys seen these amazing steals on amazon?? wow!! some of my\n",
        "ttp://t.co/mhqfg\u2026 rt @dangillmor by amazing coincidence amazon had a youtube dr\n",
        "bezo http://t.co/2jt6pgn8an this is amazing rt @rdizzle7 rt @marquisgod dog rt \n",
        "\n",
        "Displaying 25 of 546 matches:\n",
        " @brocanadian http://t.co/zxyct2renf holy shit rt @amazon get a sneak peek of \n",
        "our shipping with amazon prime air - holy cow this is the future - http://t.co\n",
        "eo) http://t.co/hi3gviwto7 #technews holy shit wtf http://t.co/p3h2wn5pba awes\n",
        "es'! (other 1 suggested was usa 1!!) holy shit jeff bezos promises half-hour s\n",
        "es http://t.co/k\u2026 rt @joshuatopolsky holy shit jeff bezos promises half-hour s\n",
        "//t.co/tjdtdpkaaf rt @joshuatopolsky holy shit jeff bezos promises half-hour s\n",
        "//t.co/0gpvgsyatm rt @joshuatopolsky holy shit jeff bezos promises half-hour s\n",
        " when amazon prime air is available? holy shit very funny! @amazon rt tim sied\n",
        "w4egt http://t.c\u2026 rt @joshuatopolsky holy shit jeff bezos promises half-hour s\n",
        "drones rt @alexpenn amazon prime air holy shit http://t.co/g2b7dumgbl amazon i\n",
        "ijk0 via @oliryan rt @joshuatopolsky holy shit jeff bezos promises half-hour s\n",
        "s http://t.co/w6kugw4egt http://t.c\u2026 holy shit amazon what? https://t.co/qrhkx\n",
        "w4egt http://t.c\u2026 rt @joshuatopolsky holy shit jeff bezos promises half-hour s\n",
        "//t.co/zggekdoyhv rt @joshuatopolsky holy shit jeff bezos promises half-hour s\n",
        " me for free? http://t.co/euutqyuoox holy crap @60minutes by using drones amaz\n",
        "//t.c\u2026 rt @alexpenn amazon prime air holy shit http://t.co/g2b7dumgbl amazon i\n",
        "one #primeair http://t.co/jgflwmcth5 holy fucking shit this is badass watch th\n",
        "d in a back yard? rt @joshuatopolsky holy shit jeff bezos promises half-hour s\n",
        " @brocanadian http://t.co/zxyct2renf holy shit of course! \u201c@verge delivery dro\n",
        "how many lawyers\u2026 rt @joshuatopolsky holy shit jeff bezos promises half-hour s\n",
        "#business #market rt @joshuatopolsky holy shit jeff bezos promises half-hour s\n",
        "ke from amazon ;d rt @joshuatopolsky holy shit jeff bezos promises half-hour s\n",
        " fan of commercials rt @maryforbes14 holy crap @60minutes by using drones amaz\n",
        "//t.co/lefbeec5ht rt @joshuatopolsky holy shit jeff bezos promises half-hour s\n",
        "g each other down rt @joshuatopolsky holy shit jeff bezos promises half-hour s\n"
       ]
      }
     ],
     "prompt_number": 15
    },
    {
     "cell_type": "markdown",
     "metadata": {},
     "source": [
      "It would appear that there is indeed a common thread of amazement in the data, and it's evident that @joshuatopolsky (who turns out to be Editor-in-chief of <a href=\"http://www.theverge.com/\">The Verge</a>) is a commonly occurring tweet entity that warrants further investigation. Speaking of tweet entities, let's take an initial look at usernames, hashtags, and URLs by employing a simple heuristic to look for words prefixed with @, RT, #, and http to see what some of the most commonly occurring tweet entiteis are in the data."
     ]
    },
    {
     "cell_type": "code",
     "collapsed": false,
     "input": [
      "# An crude look at tweet entities\n",
      "\n",
      "entities = []\n",
      "for txt in en_text.values:\n",
      "    for t in txt.split():\n",
      "        if t.startswith(\"http\") or t.startswith(\"@\") or t.startswith(\"#\") or t.startswith(\"RT @\"):\n",
      "            if not t.startswith(\"http\"):\n",
      "                t = t.lower()\n",
      "            entities.append(t.strip(\" :,\"))\n",
      "\n",
      "entities_counter = Counter(entities)\n",
      "for entity, freq in entities_counter.most_common()[:100]:\n",
      "    print entity, freq"
     ],
     "language": "python",
     "metadata": {},
     "outputs": [
      {
       "output_type": "stream",
       "stream": "stdout",
       "text": [
        "@amazon 8994\n",
        "#primeair. 4767\n",
        "http://t.c\u2026 4391\n",
        "http://t.co/w6kugw4EGt 3922\n",
        "#amazon 3032\n",
        "@60minutes 1325\n",
        "#primeair 911\n",
        "@mashable 787\n",
        "@buzzfeed 774\n",
        "@amazondrone 743\n",
        "@bradplumer 743\n",
        "@deathstarpr 735\n",
        "#drones 729\n",
        "http://t.co/JlFdNiHzks 711\n",
        "http://t.co/BxSAVVzXZf 690\n",
        "@badbanana 570\n",
        "#kindle 467\n",
        "@thenextweb 458\n",
        "#amexamazon 441\n",
        "http://t.co/MHqFG\u2026 434\n",
        "#giveaway 421\n",
        "http:/\u2026 417\n",
        "#win 409\n",
        "http:\u2026 406\n",
        "@techcrunch 391\n",
        "#drone 383\n",
        "#60minutes 380\n",
        "http://t\u2026 357\n",
        "#tech 342\n",
        "@levie 340\n",
        "@variety 337\n",
        "@breakingnews 331\n",
        "@youtube 326\n",
        "#cybermonday 325\n",
        "@huffposttech 322\n",
        "http://\u2026 320\n",
        "@jonrussell 304\n",
        "@realjohngreen 300\n",
        "#news 298\n",
        "http://t.co/FNndPuMouA 294\n",
        "@washingtonpost 284\n",
        "@kotaku 283\n",
        "@usatoday 283\n",
        "http://t.\u2026 280\n",
        "#amazondrones 278\n",
        "@nycjim 277\n",
        "http://t.co/NG8\u2026 270\n",
        "http://t.co/rUu14XpvGo 270\n",
        "@brianstelter 268\n",
        "@majornelson 260\n",
        "@benbadler 258\n",
        "http://t.co/M7kqd26jVR 255\n",
        "http\u2026 254\n",
        "@businessinsider 249\n",
        "@huffingtonpost 245\n",
        "http://t.co/DOEjXCC1vL 241\n",
        "@sai 241\n",
        "http://t.co/\u2026 240\n",
        "@verge 237\n",
        "http://t.co/tAVunIXxo3 230\n",
        "http://t.co/OqAZXaZdh9 223\n",
        "http://t.co/sMBvNrasSN 221\n",
        "#amazonprimeair 221\n",
        "@buzzfeednews 214\n",
        "@mattsinger 211\n",
        "@ericstangel 211\n",
        "#1 205\n",
        "@byjasonng 200\n",
        "#free 198\n",
        "http://t.co/GQCvN0xZ7n 193\n",
        "@americanexpress 190\n",
        "#csrracing 183\n",
        "@nickkristof 178\n",
        "@orgasmicgomez 170\n",
        "http://t.co/REJl0wLImt 168\n",
        "http://t.co/zUWaeRjFC8 167\n",
        "#ebook 165\n",
        "http://t.co/4zk01TUugX 165\n",
        "@joshuatopolsky 161\n",
        "@percival 161\n",
        "@lanceulanoff 160\n",
        "@time 158\n",
        "http://t.co/xQCjG6VQyb 157\n",
        "#romance 154\n",
        "#technology 154\n",
        "#rt 148\n",
        "@engadget 145\n",
        "@arstechnica 142\n",
        "@sapnam 142\n",
        "http://t.co/JxBSx8rLBZ 141\n",
        "http://t.co/IyV1qBhtJg 141\n",
        "@youranonnews 139\n",
        "@gizmodo 138\n",
        "@abc 135\n",
        "@mckaycoppins 133\n",
        "http://t.co/zGgEkdOyhv 133\n",
        "http://t.co/9ZBYtKpHce 132\n",
        "@newsbreaker 132\n",
        "http://t.co/z5JQkD4svO 132\n",
        "@ 131\n"
       ]
      }
     ],
     "prompt_number": 16
    },
    {
     "cell_type": "markdown",
     "metadata": {},
     "source": [
      "As you can see, there are lots of intersting tweet entities that give you helpful context for the announcement. One particularly notable observation is the appearance of \"comedic accounts\" such as @deathstarpr and @amazondrone near the top of the list, relaying a certain amount of humor. The <a href=\"https://twitter.com/DeathStarPR/status/407335634940878848\">tweet</a> embedded below that references *Star Wars* was eventually retweeted over 1k times in response to the announcement! It wouldn't be difficult to determine how many retweets occurred just within the ~3 hour timeframe corresponding to the dataset we're using here.\n",
      "\n",
      "<center>\n",
      "<blockquote class=\"twitter-tweet\" lang=\"en\"><p>First look at Amazon&#39;s new delivery drone. (Also helpful for finding Rebel bases on Hoth.) <a href=\"http://t.co/JlFdNiHzks\">pic.twitter.com/JlFdNiHzks</a></p>&mdash; Death Star PR (@DeathStarPR) <a href=\"https://twitter.com/DeathStarPR/statuses/407335634940878848\">December 2, 2013</a></blockquote>\n",
      "<script async src=\"//platform.twitter.com/widgets.js\" charset=\"utf-8\"></script>\n",
      "</center>\n",
      "\n",
      "When you take a closer look at some of the developed news stories, you also see sarcasm, unbelief, and even a bit of frustration about this being a \"publicity stunt\" for Cyber Monday.\n",
      "\n",
      "Note: There proper way of parsing out tweet entities from the *entities* field that you can see in the DataFrame. It's marginally more work but has the primary advantage that you can see the \"expanded URL\" which provides better insight into the nature of the URL since you'll know its domain name. See <a href=\"http://nbviewer.ipython.org/github/ptwobrussell/Mining-the-Social-Web-2nd-Edition/blob/master/ipynb/Chapter%209%20-%20Twitter%20Cookbook.ipynb#Example-10.-Extracting-tweet-entities\">Example 9-10, Extracting Tweet Entities</a> from *Mining the Social Web* for more on how to do that."
     ]
    },
    {
     "cell_type": "heading",
     "level": 2,
     "metadata": {},
     "source": [
      "Summarize"
     ]
    },
    {
     "cell_type": "markdown",
     "metadata": {},
     "source": [
      "We *aspired* to learn more about the general reaction to Amazon's announcement about Prime Air by taking an initial look at the data from Amazon's firehose, and it's fair to say that we learned a few things about the data without too much effort. Lots more could be discovered, but a few of the themes that we were able to glean included:\n",
      "\n",
      "* Amazement\n",
      "* Humor\n",
      "* Disbelief\n",
      "\n",
      "Although these reactions aren't particularly surprising for such an outrageous announcement, you've hopefully learned enough that you could tap into Twitter's firehose to capture and analyze data that's of interest to you. There is no shortage of fun to be had, and as you've learned, it's easier than it might first appear.\n",
      "\n",
      "Enjoy!"
     ]
    },
    {
     "cell_type": "heading",
     "level": 2,
     "metadata": {},
     "source": [
      "Recommended Resources"
     ]
    },
    {
     "cell_type": "markdown",
     "metadata": {},
     "source": [
      "If you enjoy analyzing data from social websites like Twitter, then you might enjoy the book *Mining the Social Web, 2nd Edition* (O'Reilly). You can learn more about it at <a href=\"http://MiningTheSocialWeb.com\">MiningTheSocialWeb.com</a>. All source code is available in IPython Notebook format at <a href=\"http://bit.ly/MiningTheSocialWeb2E\">GitHub</a> and can be previewed in the <a href=\"http://bit.ly/1cOlK6q\">IPython Notebook Viewer</a>.\n",
      "\n",
      "The book itself is a form of \"premium support\" for the source code and is available for purchase from <a href=\"http://amzn.to/GPd59m\">Amazon</a> or <a href=\"http://bit.ly/135dHfs\">O'Reilly Media</a>."
     ]
    }
   ],
   "metadata": {}
  }
 ]
}
